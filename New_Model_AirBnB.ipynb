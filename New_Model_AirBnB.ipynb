{
  "nbformat": 4,
  "nbformat_minor": 0,
  "metadata": {
    "colab": {
      "name": "New_Model_AirBnB.ipynb",
      "provenance": [],
      "collapsed_sections": []
    },
    "kernelspec": {
      "name": "python3",
      "display_name": "Python 3"
    },
    "language_info": {
      "name": "python"
    },
    "accelerator": "GPU"
  },
  "cells": [
    {
      "cell_type": "code",
      "metadata": {
        "id": "WZaKt1MEjnvD"
      },
      "source": [
        "%%capture\n",
        "# Libraries for R^2 visualization\n",
        "from ipywidgets import interactive, IntSlider, FloatSlider\n",
        "from math import floor, ceil\n",
        "from sklearn.base import BaseEstimator, RegressorMixin\n",
        "\n",
        "# Libraries for model building\n",
        "from sklearn.linear_model import LinearRegression\n",
        "from sklearn.metrics import mean_absolute_error, mean_squared_error, r2_score\n",
        "import matplotlib.pyplot as plt\n",
        "import numpy as np\n",
        "import pandas as pd\n",
        "from sklearn.preprocessing import OneHotEncoder\n",
        "# Library for working locally or Colab\n",
        "import sys\n",
        "import sys"
      ],
      "execution_count": 16,
      "outputs": []
    },
    {
      "cell_type": "code",
      "metadata": {
        "colab": {
          "base_uri": "https://localhost:8080/"
        },
        "id": "HjBPkuxDxR83",
        "outputId": "4287860f-f7c6-4ce0-a3ba-eb368b59551f"
      },
      "source": [
        "!unzip /content/AIrBnB.zip"
      ],
      "execution_count": 17,
      "outputs": [
        {
          "output_type": "stream",
          "text": [
            "Archive:  /content/AIrBnB.zip\n",
            "   creating: AIrBnB/\n",
            "  inflating: AIrBnB/index.html       \n",
            "   creating: __MACOSX/\n",
            "   creating: __MACOSX/AIrBnB/\n",
            "  inflating: __MACOSX/AIrBnB/._index.html  \n",
            "   creating: AIrBnB/images/\n",
            "  inflating: AIrBnB/images/treehouse.jpg  \n",
            "   creating: __MACOSX/AIrBnB/images/\n",
            "  inflating: __MACOSX/AIrBnB/images/._treehouse.jpg  \n",
            "  inflating: AIrBnB/images/banner.jpg  \n",
            "  inflating: __MACOSX/AIrBnB/images/._banner.jpg  \n",
            "  inflating: AIrBnB/images/bath.jpg  \n",
            "  inflating: __MACOSX/AIrBnB/images/._bath.jpg  \n",
            "  inflating: AIrBnB/images/pic07.jpg  \n",
            "  inflating: __MACOSX/AIrBnB/images/._pic07.jpg  \n",
            "  inflating: AIrBnB/images/pic06.jpg  \n",
            "  inflating: __MACOSX/AIrBnB/images/._pic06.jpg  \n",
            "  inflating: AIrBnB/images/pic10.jpg  \n",
            "  inflating: __MACOSX/AIrBnB/images/._pic10.jpg  \n",
            "  inflating: AIrBnB/images/pic04.jpg  \n",
            "  inflating: __MACOSX/AIrBnB/images/._pic04.jpg  \n",
            "  inflating: AIrBnB/images/pic05.jpg  \n",
            "  inflating: __MACOSX/AIrBnB/images/._pic05.jpg  \n",
            "  inflating: AIrBnB/images/pic11.jpg  \n",
            "  inflating: __MACOSX/AIrBnB/images/._pic11.jpg  \n",
            "  inflating: AIrBnB/images/cannal.jpg  \n",
            "  inflating: __MACOSX/AIrBnB/images/._cannal.jpg  \n",
            "  inflating: AIrBnB/images/pic01.jpg  \n",
            "  inflating: __MACOSX/AIrBnB/images/._pic01.jpg  \n",
            "  inflating: AIrBnB/images/pic02.jpg  \n",
            "  inflating: __MACOSX/AIrBnB/images/._pic02.jpg  \n",
            "  inflating: AIrBnB/images/pic03.jpg  \n",
            "  inflating: __MACOSX/AIrBnB/images/._pic03.jpg  \n",
            "  inflating: AIrBnB/images/pic08.jpg  \n",
            "  inflating: __MACOSX/AIrBnB/images/._pic08.jpg  \n",
            "  inflating: AIrBnB/images/pic09.jpg  \n",
            "  inflating: __MACOSX/AIrBnB/images/._pic09.jpg  \n",
            "  inflating: AIrBnB/images/brick.jpg  \n",
            "  inflating: __MACOSX/AIrBnB/images/._brick.jpg  \n",
            "  inflating: __MACOSX/AIrBnB/._images  \n",
            "  inflating: AIrBnB/elements.html    \n",
            "  inflating: __MACOSX/AIrBnB/._elements.html  \n",
            "  inflating: AIrBnB/README.txt       \n",
            "  inflating: __MACOSX/AIrBnB/._README.txt  \n",
            "  inflating: AIrBnB/generic.html     \n",
            "  inflating: __MACOSX/AIrBnB/._generic.html  \n",
            "  inflating: AIrBnB/LICENSE.txt      \n",
            "  inflating: __MACOSX/AIrBnB/._LICENSE.txt  \n",
            "  inflating: AIrBnB/landing.html     \n",
            "  inflating: __MACOSX/AIrBnB/._landing.html  \n",
            "   creating: AIrBnB/assets/\n",
            "   creating: AIrBnB/assets/css/\n",
            "  inflating: AIrBnB/assets/css/main.css  \n",
            "   creating: __MACOSX/AIrBnB/assets/\n",
            "   creating: __MACOSX/AIrBnB/assets/css/\n",
            "  inflating: __MACOSX/AIrBnB/assets/css/._main.css  \n",
            "  inflating: AIrBnB/assets/css/fontawesome-all.min.css  \n",
            "  inflating: __MACOSX/AIrBnB/assets/css/._fontawesome-all.min.css  \n",
            "  inflating: AIrBnB/assets/css/noscript.css  \n",
            "  inflating: __MACOSX/AIrBnB/assets/css/._noscript.css  \n",
            "  inflating: __MACOSX/AIrBnB/assets/._css  \n",
            "   creating: AIrBnB/assets/js/\n",
            "  inflating: AIrBnB/assets/js/breakpoints.min.js  \n",
            "   creating: __MACOSX/AIrBnB/assets/js/\n",
            "  inflating: __MACOSX/AIrBnB/assets/js/._breakpoints.min.js  \n",
            "  inflating: AIrBnB/assets/js/util.js  \n",
            "  inflating: __MACOSX/AIrBnB/assets/js/._util.js  \n",
            "  inflating: AIrBnB/assets/js/jquery.scrolly.min.js  \n",
            "  inflating: __MACOSX/AIrBnB/assets/js/._jquery.scrolly.min.js  \n",
            "  inflating: AIrBnB/assets/js/jquery.min.js  \n",
            "  inflating: __MACOSX/AIrBnB/assets/js/._jquery.min.js  \n",
            "  inflating: AIrBnB/assets/js/main.js  \n",
            "  inflating: __MACOSX/AIrBnB/assets/js/._main.js  \n",
            "  inflating: AIrBnB/assets/js/jquery.scrollex.min.js  \n",
            "  inflating: __MACOSX/AIrBnB/assets/js/._jquery.scrollex.min.js  \n",
            "  inflating: AIrBnB/assets/js/browser.min.js  \n",
            "  inflating: __MACOSX/AIrBnB/assets/js/._browser.min.js  \n",
            "  inflating: __MACOSX/AIrBnB/assets/._js  \n",
            "   creating: AIrBnB/assets/webfonts/\n",
            "  inflating: AIrBnB/assets/webfonts/fa-solid-900.ttf  \n",
            "   creating: __MACOSX/AIrBnB/assets/webfonts/\n",
            "  inflating: __MACOSX/AIrBnB/assets/webfonts/._fa-solid-900.ttf  \n",
            "  inflating: AIrBnB/assets/webfonts/fa-regular-400.svg  \n",
            "  inflating: __MACOSX/AIrBnB/assets/webfonts/._fa-regular-400.svg  \n",
            "  inflating: AIrBnB/assets/webfonts/fa-regular-400.woff2  \n",
            "  inflating: __MACOSX/AIrBnB/assets/webfonts/._fa-regular-400.woff2  \n",
            "  inflating: AIrBnB/assets/webfonts/fa-solid-900.eot  \n",
            "  inflating: __MACOSX/AIrBnB/assets/webfonts/._fa-solid-900.eot  \n",
            "  inflating: AIrBnB/assets/webfonts/fa-brands-400.svg  \n",
            "  inflating: __MACOSX/AIrBnB/assets/webfonts/._fa-brands-400.svg  \n",
            "  inflating: AIrBnB/assets/webfonts/fa-regular-400.woff  \n",
            "  inflating: __MACOSX/AIrBnB/assets/webfonts/._fa-regular-400.woff  \n",
            "  inflating: AIrBnB/assets/webfonts/fa-brands-400.eot  \n",
            "  inflating: __MACOSX/AIrBnB/assets/webfonts/._fa-brands-400.eot  \n",
            "  inflating: AIrBnB/assets/webfonts/fa-solid-900.svg  \n",
            "  inflating: __MACOSX/AIrBnB/assets/webfonts/._fa-solid-900.svg  \n",
            "  inflating: AIrBnB/assets/webfonts/fa-solid-900.woff  \n",
            "  inflating: __MACOSX/AIrBnB/assets/webfonts/._fa-solid-900.woff  \n",
            "  inflating: AIrBnB/assets/webfonts/fa-regular-400.ttf  \n",
            "  inflating: __MACOSX/AIrBnB/assets/webfonts/._fa-regular-400.ttf  \n",
            "  inflating: AIrBnB/assets/webfonts/fa-solid-900.woff2  \n",
            "  inflating: __MACOSX/AIrBnB/assets/webfonts/._fa-solid-900.woff2  \n",
            "  inflating: AIrBnB/assets/webfonts/fa-brands-400.woff2  \n",
            "  inflating: __MACOSX/AIrBnB/assets/webfonts/._fa-brands-400.woff2  \n",
            "  inflating: AIrBnB/assets/webfonts/fa-brands-400.woff  \n",
            "  inflating: __MACOSX/AIrBnB/assets/webfonts/._fa-brands-400.woff  \n",
            "  inflating: AIrBnB/assets/webfonts/fa-brands-400.ttf  \n",
            "  inflating: __MACOSX/AIrBnB/assets/webfonts/._fa-brands-400.ttf  \n",
            "  inflating: AIrBnB/assets/webfonts/fa-regular-400.eot  \n",
            "  inflating: __MACOSX/AIrBnB/assets/webfonts/._fa-regular-400.eot  \n",
            "  inflating: __MACOSX/AIrBnB/assets/._webfonts  \n",
            "   creating: AIrBnB/assets/sass/\n",
            "   creating: AIrBnB/assets/sass/layout/\n",
            "  inflating: AIrBnB/assets/sass/layout/_wrapper.scss  \n",
            "   creating: __MACOSX/AIrBnB/assets/sass/\n",
            "   creating: __MACOSX/AIrBnB/assets/sass/layout/\n",
            "  inflating: __MACOSX/AIrBnB/assets/sass/layout/.__wrapper.scss  \n",
            "  inflating: AIrBnB/assets/sass/layout/_contact.scss  \n",
            "  inflating: __MACOSX/AIrBnB/assets/sass/layout/.__contact.scss  \n",
            "  inflating: AIrBnB/assets/sass/layout/_main.scss  \n",
            "  inflating: __MACOSX/AIrBnB/assets/sass/layout/.__main.scss  \n",
            "  inflating: AIrBnB/assets/sass/layout/_menu.scss  \n",
            "  inflating: __MACOSX/AIrBnB/assets/sass/layout/.__menu.scss  \n",
            "  inflating: AIrBnB/assets/sass/layout/_banner.scss  \n",
            "  inflating: __MACOSX/AIrBnB/assets/sass/layout/.__banner.scss  \n",
            "  inflating: AIrBnB/assets/sass/layout/_footer.scss  \n",
            "  inflating: __MACOSX/AIrBnB/assets/sass/layout/.__footer.scss  \n",
            "  inflating: AIrBnB/assets/sass/layout/_header.scss  \n",
            "  inflating: __MACOSX/AIrBnB/assets/sass/layout/.__header.scss  \n",
            "  inflating: __MACOSX/AIrBnB/assets/sass/._layout  \n",
            "  inflating: AIrBnB/assets/sass/noscript.scss  \n",
            "  inflating: __MACOSX/AIrBnB/assets/sass/._noscript.scss  \n",
            "   creating: AIrBnB/assets/sass/libs/\n",
            "  inflating: AIrBnB/assets/sass/libs/_functions.scss  \n",
            "   creating: __MACOSX/AIrBnB/assets/sass/libs/\n",
            "  inflating: __MACOSX/AIrBnB/assets/sass/libs/.__functions.scss  \n",
            "  inflating: AIrBnB/assets/sass/libs/_vars.scss  \n",
            "  inflating: __MACOSX/AIrBnB/assets/sass/libs/.__vars.scss  \n",
            "  inflating: AIrBnB/assets/sass/libs/_breakpoints.scss  \n",
            "  inflating: __MACOSX/AIrBnB/assets/sass/libs/.__breakpoints.scss  \n",
            "  inflating: AIrBnB/assets/sass/libs/_vendor.scss  \n",
            "  inflating: __MACOSX/AIrBnB/assets/sass/libs/.__vendor.scss  \n",
            "  inflating: AIrBnB/assets/sass/libs/_mixins.scss  \n",
            "  inflating: __MACOSX/AIrBnB/assets/sass/libs/.__mixins.scss  \n",
            "  inflating: AIrBnB/assets/sass/libs/_html-grid.scss  \n",
            "  inflating: __MACOSX/AIrBnB/assets/sass/libs/.__html-grid.scss  \n",
            "  inflating: __MACOSX/AIrBnB/assets/sass/._libs  \n",
            "   creating: AIrBnB/assets/sass/components/\n",
            "  inflating: AIrBnB/assets/sass/components/_contact-method.scss  \n",
            "   creating: __MACOSX/AIrBnB/assets/sass/components/\n",
            "  inflating: __MACOSX/AIrBnB/assets/sass/components/.__contact-method.scss  \n",
            "  inflating: AIrBnB/assets/sass/components/_row.scss  \n",
            "  inflating: __MACOSX/AIrBnB/assets/sass/components/.__row.scss  \n",
            "  inflating: AIrBnB/assets/sass/components/_tiles.scss  \n",
            "  inflating: __MACOSX/AIrBnB/assets/sass/components/.__tiles.scss  \n",
            "  inflating: AIrBnB/assets/sass/components/_image.scss  \n",
            "  inflating: __MACOSX/AIrBnB/assets/sass/components/.__image.scss  \n",
            "  inflating: AIrBnB/assets/sass/components/_button.scss  \n",
            "  inflating: __MACOSX/AIrBnB/assets/sass/components/.__button.scss  \n",
            "  inflating: AIrBnB/assets/sass/components/_table.scss  \n",
            "  inflating: __MACOSX/AIrBnB/assets/sass/components/.__table.scss  \n",
            "  inflating: AIrBnB/assets/sass/components/_actions.scss  \n",
            "  inflating: __MACOSX/AIrBnB/assets/sass/components/.__actions.scss  \n",
            "  inflating: AIrBnB/assets/sass/components/_box.scss  \n",
            "  inflating: __MACOSX/AIrBnB/assets/sass/components/.__box.scss  \n",
            "  inflating: AIrBnB/assets/sass/components/_list.scss  \n",
            "  inflating: __MACOSX/AIrBnB/assets/sass/components/.__list.scss  \n",
            "  inflating: AIrBnB/assets/sass/components/_pagination.scss  \n",
            "  inflating: __MACOSX/AIrBnB/assets/sass/components/.__pagination.scss  \n",
            "  inflating: AIrBnB/assets/sass/components/_icon.scss  \n",
            "  inflating: __MACOSX/AIrBnB/assets/sass/components/.__icon.scss  \n",
            "  inflating: AIrBnB/assets/sass/components/_section.scss  \n",
            "  inflating: __MACOSX/AIrBnB/assets/sass/components/.__section.scss  \n",
            "  inflating: AIrBnB/assets/sass/components/_form.scss  \n",
            "  inflating: __MACOSX/AIrBnB/assets/sass/components/.__form.scss  \n",
            "  inflating: AIrBnB/assets/sass/components/_icons.scss  \n",
            "  inflating: __MACOSX/AIrBnB/assets/sass/components/.__icons.scss  \n",
            "  inflating: AIrBnB/assets/sass/components/_spotlights.scss  \n",
            "  inflating: __MACOSX/AIrBnB/assets/sass/components/.__spotlights.scss  \n",
            "  inflating: __MACOSX/AIrBnB/assets/sass/._components  \n",
            "  inflating: AIrBnB/assets/sass/main.scss  \n",
            "  inflating: __MACOSX/AIrBnB/assets/sass/._main.scss  \n",
            "   creating: AIrBnB/assets/sass/base/\n",
            "  inflating: AIrBnB/assets/sass/base/_typography.scss  \n",
            "   creating: __MACOSX/AIrBnB/assets/sass/base/\n",
            "  inflating: __MACOSX/AIrBnB/assets/sass/base/.__typography.scss  \n",
            "  inflating: AIrBnB/assets/sass/base/_reset.scss  \n",
            "  inflating: __MACOSX/AIrBnB/assets/sass/base/.__reset.scss  \n",
            "  inflating: AIrBnB/assets/sass/base/_page.scss  \n",
            "  inflating: __MACOSX/AIrBnB/assets/sass/base/.__page.scss  \n",
            "  inflating: __MACOSX/AIrBnB/assets/sass/._base  \n",
            "  inflating: __MACOSX/AIrBnB/assets/._sass  \n",
            "  inflating: __MACOSX/AIrBnB/._assets  \n",
            "  inflating: __MACOSX/._AIrBnB       \n"
          ],
          "name": "stdout"
        }
      ]
    },
    {
      "cell_type": "code",
      "metadata": {
        "colab": {
          "base_uri": "https://localhost:8080/"
        },
        "id": "fushFwxzl6c9",
        "outputId": "b68ab0a4-1190-4e2f-acd9-1e9297158ec6"
      },
      "source": [
        "!unzip /content/AB_NYC_2019.csv.zip"
      ],
      "execution_count": 47,
      "outputs": [
        {
          "output_type": "stream",
          "text": [
            "Archive:  /content/AB_NYC_2019.csv.zip\n",
            "replace AB_NYC_2019.csv? [y]es, [n]o, [A]ll, [N]one, [r]ename: "
          ],
          "name": "stdout"
        }
      ]
    },
    {
      "cell_type": "code",
      "metadata": {
        "colab": {
          "base_uri": "https://localhost:8080/",
          "height": 411
        },
        "id": "JRxbb-1pmENj",
        "outputId": "c1330472-922d-49d2-a981-2f2264b66969"
      },
      "source": [
        "import pandas as pd\n",
        "\n",
        "df = pd.read_csv('/content/AB_NYC_2019.csv')\n",
        "df.head()"
      ],
      "execution_count": 126,
      "outputs": [
        {
          "output_type": "execute_result",
          "data": {
            "text/html": [
              "<div>\n",
              "<style scoped>\n",
              "    .dataframe tbody tr th:only-of-type {\n",
              "        vertical-align: middle;\n",
              "    }\n",
              "\n",
              "    .dataframe tbody tr th {\n",
              "        vertical-align: top;\n",
              "    }\n",
              "\n",
              "    .dataframe thead th {\n",
              "        text-align: right;\n",
              "    }\n",
              "</style>\n",
              "<table border=\"1\" class=\"dataframe\">\n",
              "  <thead>\n",
              "    <tr style=\"text-align: right;\">\n",
              "      <th></th>\n",
              "      <th>id</th>\n",
              "      <th>name</th>\n",
              "      <th>host_id</th>\n",
              "      <th>host_name</th>\n",
              "      <th>neighbourhood_group</th>\n",
              "      <th>neighbourhood</th>\n",
              "      <th>latitude</th>\n",
              "      <th>longitude</th>\n",
              "      <th>room_type</th>\n",
              "      <th>price</th>\n",
              "      <th>minimum_nights</th>\n",
              "      <th>number_of_reviews</th>\n",
              "      <th>last_review</th>\n",
              "      <th>reviews_per_month</th>\n",
              "      <th>calculated_host_listings_count</th>\n",
              "      <th>availability_365</th>\n",
              "    </tr>\n",
              "  </thead>\n",
              "  <tbody>\n",
              "    <tr>\n",
              "      <th>0</th>\n",
              "      <td>2539</td>\n",
              "      <td>Clean &amp; quiet apt home by the park</td>\n",
              "      <td>2787</td>\n",
              "      <td>John</td>\n",
              "      <td>Brooklyn</td>\n",
              "      <td>Kensington</td>\n",
              "      <td>40.64749</td>\n",
              "      <td>-73.97237</td>\n",
              "      <td>Private room</td>\n",
              "      <td>149</td>\n",
              "      <td>1</td>\n",
              "      <td>9</td>\n",
              "      <td>2018-10-19</td>\n",
              "      <td>0.21</td>\n",
              "      <td>6</td>\n",
              "      <td>365</td>\n",
              "    </tr>\n",
              "    <tr>\n",
              "      <th>1</th>\n",
              "      <td>2595</td>\n",
              "      <td>Skylit Midtown Castle</td>\n",
              "      <td>2845</td>\n",
              "      <td>Jennifer</td>\n",
              "      <td>Manhattan</td>\n",
              "      <td>Midtown</td>\n",
              "      <td>40.75362</td>\n",
              "      <td>-73.98377</td>\n",
              "      <td>Entire home/apt</td>\n",
              "      <td>225</td>\n",
              "      <td>1</td>\n",
              "      <td>45</td>\n",
              "      <td>2019-05-21</td>\n",
              "      <td>0.38</td>\n",
              "      <td>2</td>\n",
              "      <td>355</td>\n",
              "    </tr>\n",
              "    <tr>\n",
              "      <th>2</th>\n",
              "      <td>3647</td>\n",
              "      <td>THE VILLAGE OF HARLEM....NEW YORK !</td>\n",
              "      <td>4632</td>\n",
              "      <td>Elisabeth</td>\n",
              "      <td>Manhattan</td>\n",
              "      <td>Harlem</td>\n",
              "      <td>40.80902</td>\n",
              "      <td>-73.94190</td>\n",
              "      <td>Private room</td>\n",
              "      <td>150</td>\n",
              "      <td>3</td>\n",
              "      <td>0</td>\n",
              "      <td>NaN</td>\n",
              "      <td>NaN</td>\n",
              "      <td>1</td>\n",
              "      <td>365</td>\n",
              "    </tr>\n",
              "    <tr>\n",
              "      <th>3</th>\n",
              "      <td>3831</td>\n",
              "      <td>Cozy Entire Floor of Brownstone</td>\n",
              "      <td>4869</td>\n",
              "      <td>LisaRoxanne</td>\n",
              "      <td>Brooklyn</td>\n",
              "      <td>Clinton Hill</td>\n",
              "      <td>40.68514</td>\n",
              "      <td>-73.95976</td>\n",
              "      <td>Entire home/apt</td>\n",
              "      <td>89</td>\n",
              "      <td>1</td>\n",
              "      <td>270</td>\n",
              "      <td>2019-07-05</td>\n",
              "      <td>4.64</td>\n",
              "      <td>1</td>\n",
              "      <td>194</td>\n",
              "    </tr>\n",
              "    <tr>\n",
              "      <th>4</th>\n",
              "      <td>5022</td>\n",
              "      <td>Entire Apt: Spacious Studio/Loft by central park</td>\n",
              "      <td>7192</td>\n",
              "      <td>Laura</td>\n",
              "      <td>Manhattan</td>\n",
              "      <td>East Harlem</td>\n",
              "      <td>40.79851</td>\n",
              "      <td>-73.94399</td>\n",
              "      <td>Entire home/apt</td>\n",
              "      <td>80</td>\n",
              "      <td>10</td>\n",
              "      <td>9</td>\n",
              "      <td>2018-11-19</td>\n",
              "      <td>0.10</td>\n",
              "      <td>1</td>\n",
              "      <td>0</td>\n",
              "    </tr>\n",
              "  </tbody>\n",
              "</table>\n",
              "</div>"
            ],
            "text/plain": [
              "     id  ... availability_365\n",
              "0  2539  ...              365\n",
              "1  2595  ...              355\n",
              "2  3647  ...              365\n",
              "3  3831  ...              194\n",
              "4  5022  ...                0\n",
              "\n",
              "[5 rows x 16 columns]"
            ]
          },
          "metadata": {
            "tags": []
          },
          "execution_count": 126
        }
      ]
    },
    {
      "cell_type": "code",
      "metadata": {
        "id": "n_1Ttuk3XPMU"
      },
      "source": [
        "#EDA\n"
      ],
      "execution_count": 20,
      "outputs": []
    },
    {
      "cell_type": "code",
      "metadata": {
        "colab": {
          "base_uri": "https://localhost:8080/"
        },
        "id": "RwxUOi9Mmdgp",
        "outputId": "d99d85ca-15a4-4019-c69a-c5f6057d58bb"
      },
      "source": [
        "df.info()"
      ],
      "execution_count": 21,
      "outputs": [
        {
          "output_type": "stream",
          "text": [
            "<class 'pandas.core.frame.DataFrame'>\n",
            "RangeIndex: 48895 entries, 0 to 48894\n",
            "Data columns (total 16 columns):\n",
            " #   Column                          Non-Null Count  Dtype  \n",
            "---  ------                          --------------  -----  \n",
            " 0   id                              48895 non-null  int64  \n",
            " 1   name                            48879 non-null  object \n",
            " 2   host_id                         48895 non-null  int64  \n",
            " 3   host_name                       48874 non-null  object \n",
            " 4   neighbourhood_group             48895 non-null  object \n",
            " 5   neighbourhood                   48895 non-null  object \n",
            " 6   latitude                        48895 non-null  float64\n",
            " 7   longitude                       48895 non-null  float64\n",
            " 8   room_type                       48895 non-null  object \n",
            " 9   price                           48895 non-null  int64  \n",
            " 10  minimum_nights                  48895 non-null  int64  \n",
            " 11  number_of_reviews               48895 non-null  int64  \n",
            " 12  last_review                     38843 non-null  object \n",
            " 13  reviews_per_month               38843 non-null  float64\n",
            " 14  calculated_host_listings_count  48895 non-null  int64  \n",
            " 15  availability_365                48895 non-null  int64  \n",
            "dtypes: float64(3), int64(7), object(6)\n",
            "memory usage: 6.0+ MB\n"
          ],
          "name": "stdout"
        }
      ]
    },
    {
      "cell_type": "code",
      "metadata": {
        "id": "IKpcFzh4m5NG",
        "colab": {
          "base_uri": "https://localhost:8080/"
        },
        "outputId": "6c1cfd73-0654-4b26-c161-9ba4f79c7377"
      },
      "source": [
        "df.isnull().sum()"
      ],
      "execution_count": 22,
      "outputs": [
        {
          "output_type": "execute_result",
          "data": {
            "text/plain": [
              "id                                    0\n",
              "name                                 16\n",
              "host_id                               0\n",
              "host_name                            21\n",
              "neighbourhood_group                   0\n",
              "neighbourhood                         0\n",
              "latitude                              0\n",
              "longitude                             0\n",
              "room_type                             0\n",
              "price                                 0\n",
              "minimum_nights                        0\n",
              "number_of_reviews                     0\n",
              "last_review                       10052\n",
              "reviews_per_month                 10052\n",
              "calculated_host_listings_count        0\n",
              "availability_365                      0\n",
              "dtype: int64"
            ]
          },
          "metadata": {
            "tags": []
          },
          "execution_count": 22
        }
      ]
    },
    {
      "cell_type": "code",
      "metadata": {
        "colab": {
          "base_uri": "https://localhost:8080/"
        },
        "id": "9d9t3HhGCZGB",
        "outputId": "72745ac2-5486-4ff0-8aae-93e16ee941f6"
      },
      "source": [
        "type(df)"
      ],
      "execution_count": 23,
      "outputs": [
        {
          "output_type": "execute_result",
          "data": {
            "text/plain": [
              "pandas.core.frame.DataFrame"
            ]
          },
          "metadata": {
            "tags": []
          },
          "execution_count": 23
        }
      ]
    },
    {
      "cell_type": "code",
      "metadata": {
        "id": "xL9gXkBN52Hp",
        "colab": {
          "base_uri": "https://localhost:8080/"
        },
        "outputId": "29005e85-dc4d-47c4-bfbf-0d1438bcb5ce"
      },
      "source": [
        "import pandas as pd\n",
        "import numpy as np\n",
        "\n",
        "def wrangle(df):\n",
        "  \n",
        "  df = df.copy()                \n",
        "    # Remove outliers: \n",
        "    # the most extreme 1% prices,\n",
        "    # the most extreme .1% latitudes, &\n",
        "    # the most extreme .1% longitudes\n",
        "  df = df[(df['price'] >= 50) & (df['price'] <= 500)]\n",
        "    #      (df['latitude'] >=40.57) & (df['latitude'] < 40.99) &\n",
        "     #\n",
        "  #Dropconstant and categorical features\n",
        "  df = df.drop(columns=['minimum_nights', 'host_id', 'host_name', 'name','id', 'availability_365', 'number_of_reviews', 'last_review',\t'reviews_per_month',\t'calculated_host_listings_count'])\n",
        "  print(type(df))\n",
        "  return df\n",
        "df = wrangle(df)"
      ],
      "execution_count": 127,
      "outputs": [
        {
          "output_type": "stream",
          "text": [
            "<class 'pandas.core.frame.DataFrame'>\n"
          ],
          "name": "stdout"
        }
      ]
    },
    {
      "cell_type": "code",
      "metadata": {
        "id": "7FwX4wlnA3hF",
        "colab": {
          "base_uri": "https://localhost:8080/"
        },
        "outputId": "69f5b37f-c929-4687-bed1-ea3d87d07f9f"
      },
      "source": [
        "df.columns"
      ],
      "execution_count": 88,
      "outputs": [
        {
          "output_type": "execute_result",
          "data": {
            "text/plain": [
              "Index(['id', 'name', 'host_id', 'host_name', 'neighbourhood_group',\n",
              "       'neighbourhood', 'latitude', 'longitude', 'room_type', 'price',\n",
              "       'minimum_nights', 'number_of_reviews', 'last_review',\n",
              "       'reviews_per_month', 'calculated_host_listings_count',\n",
              "       'availability_365'],\n",
              "      dtype='object')"
            ]
          },
          "metadata": {
            "tags": []
          },
          "execution_count": 88
        }
      ]
    },
    {
      "cell_type": "code",
      "metadata": {
        "colab": {
          "base_uri": "https://localhost:8080/",
          "height": 204
        },
        "id": "Hz2qEgMaDBHh",
        "outputId": "d3b38b67-7c7a-4a22-c772-86427e77eab9"
      },
      "source": [
        "df.head()\n"
      ],
      "execution_count": 128,
      "outputs": [
        {
          "output_type": "execute_result",
          "data": {
            "text/html": [
              "<div>\n",
              "<style scoped>\n",
              "    .dataframe tbody tr th:only-of-type {\n",
              "        vertical-align: middle;\n",
              "    }\n",
              "\n",
              "    .dataframe tbody tr th {\n",
              "        vertical-align: top;\n",
              "    }\n",
              "\n",
              "    .dataframe thead th {\n",
              "        text-align: right;\n",
              "    }\n",
              "</style>\n",
              "<table border=\"1\" class=\"dataframe\">\n",
              "  <thead>\n",
              "    <tr style=\"text-align: right;\">\n",
              "      <th></th>\n",
              "      <th>neighbourhood_group</th>\n",
              "      <th>neighbourhood</th>\n",
              "      <th>latitude</th>\n",
              "      <th>longitude</th>\n",
              "      <th>room_type</th>\n",
              "      <th>price</th>\n",
              "    </tr>\n",
              "  </thead>\n",
              "  <tbody>\n",
              "    <tr>\n",
              "      <th>0</th>\n",
              "      <td>Brooklyn</td>\n",
              "      <td>Kensington</td>\n",
              "      <td>40.64749</td>\n",
              "      <td>-73.97237</td>\n",
              "      <td>Private room</td>\n",
              "      <td>149</td>\n",
              "    </tr>\n",
              "    <tr>\n",
              "      <th>1</th>\n",
              "      <td>Manhattan</td>\n",
              "      <td>Midtown</td>\n",
              "      <td>40.75362</td>\n",
              "      <td>-73.98377</td>\n",
              "      <td>Entire home/apt</td>\n",
              "      <td>225</td>\n",
              "    </tr>\n",
              "    <tr>\n",
              "      <th>2</th>\n",
              "      <td>Manhattan</td>\n",
              "      <td>Harlem</td>\n",
              "      <td>40.80902</td>\n",
              "      <td>-73.94190</td>\n",
              "      <td>Private room</td>\n",
              "      <td>150</td>\n",
              "    </tr>\n",
              "    <tr>\n",
              "      <th>3</th>\n",
              "      <td>Brooklyn</td>\n",
              "      <td>Clinton Hill</td>\n",
              "      <td>40.68514</td>\n",
              "      <td>-73.95976</td>\n",
              "      <td>Entire home/apt</td>\n",
              "      <td>89</td>\n",
              "    </tr>\n",
              "    <tr>\n",
              "      <th>4</th>\n",
              "      <td>Manhattan</td>\n",
              "      <td>East Harlem</td>\n",
              "      <td>40.79851</td>\n",
              "      <td>-73.94399</td>\n",
              "      <td>Entire home/apt</td>\n",
              "      <td>80</td>\n",
              "    </tr>\n",
              "  </tbody>\n",
              "</table>\n",
              "</div>"
            ],
            "text/plain": [
              "  neighbourhood_group neighbourhood  ...        room_type  price\n",
              "0            Brooklyn    Kensington  ...     Private room    149\n",
              "1           Manhattan       Midtown  ...  Entire home/apt    225\n",
              "2           Manhattan        Harlem  ...     Private room    150\n",
              "3            Brooklyn  Clinton Hill  ...  Entire home/apt     89\n",
              "4           Manhattan   East Harlem  ...  Entire home/apt     80\n",
              "\n",
              "[5 rows x 6 columns]"
            ]
          },
          "metadata": {
            "tags": []
          },
          "execution_count": 128
        }
      ]
    },
    {
      "cell_type": "code",
      "metadata": {
        "id": "m6uOCq2gA3kl",
        "colab": {
          "base_uri": "https://localhost:8080/",
          "height": 297
        },
        "outputId": "024a222c-f695-4844-b215-6fd512e2fe34"
      },
      "source": [
        "df.describe()"
      ],
      "execution_count": 129,
      "outputs": [
        {
          "output_type": "execute_result",
          "data": {
            "text/html": [
              "<div>\n",
              "<style scoped>\n",
              "    .dataframe tbody tr th:only-of-type {\n",
              "        vertical-align: middle;\n",
              "    }\n",
              "\n",
              "    .dataframe tbody tr th {\n",
              "        vertical-align: top;\n",
              "    }\n",
              "\n",
              "    .dataframe thead th {\n",
              "        text-align: right;\n",
              "    }\n",
              "</style>\n",
              "<table border=\"1\" class=\"dataframe\">\n",
              "  <thead>\n",
              "    <tr style=\"text-align: right;\">\n",
              "      <th></th>\n",
              "      <th>latitude</th>\n",
              "      <th>longitude</th>\n",
              "      <th>price</th>\n",
              "    </tr>\n",
              "  </thead>\n",
              "  <tbody>\n",
              "    <tr>\n",
              "      <th>count</th>\n",
              "      <td>42824.000000</td>\n",
              "      <td>42824.000000</td>\n",
              "      <td>42824.000000</td>\n",
              "    </tr>\n",
              "    <tr>\n",
              "      <th>mean</th>\n",
              "      <td>40.730149</td>\n",
              "      <td>-73.954697</td>\n",
              "      <td>142.342542</td>\n",
              "    </tr>\n",
              "    <tr>\n",
              "      <th>std</th>\n",
              "      <td>0.053108</td>\n",
              "      <td>0.044386</td>\n",
              "      <td>86.871856</td>\n",
              "    </tr>\n",
              "    <tr>\n",
              "      <th>min</th>\n",
              "      <td>40.499790</td>\n",
              "      <td>-74.244420</td>\n",
              "      <td>50.000000</td>\n",
              "    </tr>\n",
              "    <tr>\n",
              "      <th>25%</th>\n",
              "      <td>40.691800</td>\n",
              "      <td>-73.984200</td>\n",
              "      <td>79.000000</td>\n",
              "    </tr>\n",
              "    <tr>\n",
              "      <th>50%</th>\n",
              "      <td>40.724780</td>\n",
              "      <td>-73.957530</td>\n",
              "      <td>120.000000</td>\n",
              "    </tr>\n",
              "    <tr>\n",
              "      <th>75%</th>\n",
              "      <td>40.763660</td>\n",
              "      <td>-73.939790</td>\n",
              "      <td>180.000000</td>\n",
              "    </tr>\n",
              "    <tr>\n",
              "      <th>max</th>\n",
              "      <td>40.911690</td>\n",
              "      <td>-73.712990</td>\n",
              "      <td>500.000000</td>\n",
              "    </tr>\n",
              "  </tbody>\n",
              "</table>\n",
              "</div>"
            ],
            "text/plain": [
              "           latitude     longitude         price\n",
              "count  42824.000000  42824.000000  42824.000000\n",
              "mean      40.730149    -73.954697    142.342542\n",
              "std        0.053108      0.044386     86.871856\n",
              "min       40.499790    -74.244420     50.000000\n",
              "25%       40.691800    -73.984200     79.000000\n",
              "50%       40.724780    -73.957530    120.000000\n",
              "75%       40.763660    -73.939790    180.000000\n",
              "max       40.911690    -73.712990    500.000000"
            ]
          },
          "metadata": {
            "tags": []
          },
          "execution_count": 129
        }
      ]
    },
    {
      "cell_type": "code",
      "metadata": {
        "id": "ewUYUkbIA3nU",
        "colab": {
          "base_uri": "https://localhost:8080/",
          "height": 282
        },
        "outputId": "54b1b5db-30eb-44f1-9224-12f7b3b4ccc5"
      },
      "source": [
        "df.price.plot.hist(bins=40)"
      ],
      "execution_count": 130,
      "outputs": [
        {
          "output_type": "execute_result",
          "data": {
            "text/plain": [
              "<matplotlib.axes._subplots.AxesSubplot at 0x7f4c8e701810>"
            ]
          },
          "metadata": {
            "tags": []
          },
          "execution_count": 130
        },
        {
          "output_type": "display_data",
          "data": {
            "image/png": "[encoded data removed]",
            "text/plain": [
              "<Figure size 432x288 with 1 Axes>"
            ]
          },
          "metadata": {
            "tags": [],
            "needs_background": "light"
          }
        }
      ]
    },
    {
      "cell_type": "code",
      "metadata": {
        "colab": {
          "base_uri": "https://localhost:8080/",
          "height": 282
        },
        "id": "4RSkXGow84eW",
        "outputId": "a34a0127-349e-4200-830d-c348939a7bcf"
      },
      "source": [
        "df.price.plot()"
      ],
      "execution_count": 131,
      "outputs": [
        {
          "output_type": "execute_result",
          "data": {
            "text/plain": [
              "<matplotlib.axes._subplots.AxesSubplot at 0x7f4c8e6a6610>"
            ]
          },
          "metadata": {
            "tags": []
          },
          "execution_count": 131
        },
        {
          "output_type": "display_data",
          "data": {
            "image/png": "[encoded data removed]",
            "text/plain": [
              "<Figure size 432x288 with 1 Axes>"
            ]
          },
          "metadata": {
            "tags": [],
            "needs_background": "light"
          }
        }
      ]
    },
    {
      "cell_type": "code",
      "metadata": {
        "colab": {
          "base_uri": "https://localhost:8080/",
          "height": 279
        },
        "id": "IBZQjOdnqQnv",
        "outputId": "427e3b7c-0f20-4d9d-e589-b6a5a745dffe"
      },
      "source": [
        "#Relationship price and latitude\n",
        "plt.scatter(df['latitude'], df['price'])\n",
        "plt.xlabel('latitude [per degree]')\n",
        "plt.ylabel('price [$]');"
      ],
      "execution_count": 132,
      "outputs": [
        {
          "output_type": "display_data",
          "data": {
            "image/png": "[encoded data removed]",
            "text/plain": [
              "<Figure size 432x288 with 1 Axes>"
            ]
          },
          "metadata": {
            "tags": [],
            "needs_background": "light"
          }
        }
      ]
    },
    {
      "cell_type": "code",
      "metadata": {
        "colab": {
          "base_uri": "https://localhost:8080/",
          "height": 279
        },
        "id": "QLPn3vMt84s3",
        "outputId": "016b4a62-ad96-4987-f3a9-fa20f107e24c"
      },
      "source": [
        "#Relationship price and longitude\n",
        "plt.scatter(df['longitude'], df['price'])\n",
        "plt.xlabel('longitude [per degree]')\n",
        "plt.ylabel('price [$]');"
      ],
      "execution_count": 133,
      "outputs": [
        {
          "output_type": "display_data",
          "data": {
            "image/png": "[encoded data removed]",
            "text/plain": [
              "<Figure size 432x288 with 1 Axes>"
            ]
          },
          "metadata": {
            "tags": [],
            "needs_background": "light"
          }
        }
      ]
    },
    {
      "cell_type": "code",
      "metadata": {
        "id": "6eXfXUyHZU13"
      },
      "source": [
        "\n",
        "y = df['price']\n",
        "X = df[['latitude','longitude']]\n",
        "\n"
      ],
      "execution_count": 134,
      "outputs": []
    },
    {
      "cell_type": "code",
      "metadata": {
        "id": "IGd1bhsvt3DF"
      },
      "source": [
        ""
      ],
      "execution_count": 30,
      "outputs": []
    },
    {
      "cell_type": "code",
      "metadata": {
        "id": "9GYFu8BylDx0"
      },
      "source": [
        "import numpy as np\n",
        "from sklearn.model_selection import train_test_split\n",
        "\n",
        "X_train, X_test, y_train, y_test = train_test_split(\n",
        "X, y, test_size=0.2, random_state=42)"
      ],
      "execution_count": 136,
      "outputs": []
    },
    {
      "cell_type": "code",
      "metadata": {
        "id": "QsTbz4LZbezv"
      },
      "source": [
        ""
      ],
      "execution_count": 31,
      "outputs": []
    },
    {
      "cell_type": "code",
      "metadata": {
        "colab": {
          "base_uri": "https://localhost:8080/"
        },
        "id": "fioCAxhWbfAd",
        "outputId": "6ebb57ab-34c2-4a21-f4df-795fef058916"
      },
      "source": [
        "#Establish a baseline\n",
        "print('price:', y_train.mean())\n",
        "y_pred = [y_train.mean()] * len(y_train)\n",
        "print('Baseline MAE:', mean_absolute_error(y_train, y_pred))"
      ],
      "execution_count": 137,
      "outputs": [
        {
          "output_type": "stream",
          "text": [
            "price: 142.65506874106075\n",
            "Baseline MAE: 65.98839940643023\n"
          ],
          "name": "stdout"
        }
      ]
    },
    {
      "cell_type": "code",
      "metadata": {
        "id": "SXXHF6ccbfDr"
      },
      "source": [
        "#Build the model\n",
        "#  Instantiate your model (class --> object)\n",
        "model = LinearRegression()\n",
        "\n",
        "# Fit your TRAINING data to the model\n",
        "model.fit(X_train, y_train);"
      ],
      "execution_count": 138,
      "outputs": []
    },
    {
      "cell_type": "code",
      "metadata": {
        "colab": {
          "base_uri": "https://localhost:8080/"
        },
        "id": "qN2qJxFWbfFz",
        "outputId": "cd99abf1-09da-4795-89f4-038b41e33618"
      },
      "source": [
        "#Check metrics\n",
        "print('Training MAE:', mean_absolute_error(y_train, model.predict(X_train)))\n",
        "print('Test MAE:', mean_absolute_error(y_test, model.predict(X_test)))"
      ],
      "execution_count": 139,
      "outputs": [
        {
          "output_type": "stream",
          "text": [
            "Training MAE: 62.56806333671244\n",
            "Test MAE: 62.27086666044037\n"
          ],
          "name": "stdout"
        }
      ]
    },
    {
      "cell_type": "code",
      "metadata": {
        "colab": {
          "base_uri": "https://localhost:8080/"
        },
        "id": "kxOstzE1mWzx",
        "outputId": "e1615c04-4317-4cb5-8a1c-3ec7a6bf7756"
      },
      "source": [
        "from sklearn.metrics import r2_score\n",
        "r2_score(y_train,model.predict(X_train))\n",
        "#r2_score(y_test), model.predict(X_test)"
      ],
      "execution_count": 140,
      "outputs": [
        {
          "output_type": "execute_result",
          "data": {
            "text/plain": [
              "0.074874792087407"
            ]
          },
          "metadata": {
            "tags": []
          },
          "execution_count": 140
        }
      ]
    },
    {
      "cell_type": "code",
      "metadata": {
        "colab": {
          "base_uri": "https://localhost:8080/",
          "height": 279
        },
        "id": "phj2K6eqmW5B",
        "outputId": "e77d8a5b-67a7-49ba-d4f7-472cf934a5f2"
      },
      "source": [
        "#Visualization\n",
        "plt.scatter(df['latitude'], df['price'])\n",
        "plt.plot(X_train, model.predict(X_train), color='orange', label='Linear Model')\n",
        "plt.xlabel('latitude [per degree]')\n",
        "plt.ylabel('price [$]')\n",
        "plt.xlim([40.60,40.90])\n",
        "plt.legend()\n",
        "plt.show();"
      ],
      "execution_count": 107,
      "outputs": [
        {
          "output_type": "display_data",
          "data": {
            "image/png": "[encoded data removed]",
            "text/plain": [
              "<Figure size 432x288 with 1 Axes>"
            ]
          },
          "metadata": {
            "tags": [],
            "needs_background": "light"
          }
        }
      ]
    },
    {
      "cell_type": "code",
      "metadata": {
        "colab": {
          "base_uri": "https://localhost:8080/",
          "height": 279
        },
        "id": "ogRFZ73KqX5p",
        "outputId": "d350bd99-e929-4bc9-d924-7f1b8022441b"
      },
      "source": [
        "plt.scatter(df['longitude'], df['price'])\n",
        "plt.plot(X_train, model.predict(X_train), color='orange', label='Linear Model')\n",
        "plt.xlabel('longitude [per degree]')\n",
        "plt.ylabel('price [$]')\n",
        "plt.xlim([-74.10,-73.80])\n",
        "plt.legend();"
      ],
      "execution_count": 141,
      "outputs": [
        {
          "output_type": "display_data",
          "data": {
            "image/png": "[encoded data removed]",
            "text/plain": [
              "<Figure size 432x288 with 1 Axes>"
            ]
          },
          "metadata": {
            "tags": [],
            "needs_background": "light"
          }
        }
      ]
    },
    {
      "cell_type": "code",
      "metadata": {
        "colab": {
          "base_uri": "https://localhost:8080/",
          "height": 419
        },
        "id": "3O3iXmjmqyeD",
        "outputId": "5365466e-9851-4615-f813-7c57627070e5"
      },
      "source": [
        "df[['room_type', 'price']]"
      ],
      "execution_count": 108,
      "outputs": [
        {
          "output_type": "execute_result",
          "data": {
            "text/html": [
              "<div>\n",
              "<style scoped>\n",
              "    .dataframe tbody tr th:only-of-type {\n",
              "        vertical-align: middle;\n",
              "    }\n",
              "\n",
              "    .dataframe tbody tr th {\n",
              "        vertical-align: top;\n",
              "    }\n",
              "\n",
              "    .dataframe thead th {\n",
              "        text-align: right;\n",
              "    }\n",
              "</style>\n",
              "<table border=\"1\" class=\"dataframe\">\n",
              "  <thead>\n",
              "    <tr style=\"text-align: right;\">\n",
              "      <th></th>\n",
              "      <th>room_type</th>\n",
              "      <th>price</th>\n",
              "    </tr>\n",
              "  </thead>\n",
              "  <tbody>\n",
              "    <tr>\n",
              "      <th>0</th>\n",
              "      <td>Private room</td>\n",
              "      <td>149</td>\n",
              "    </tr>\n",
              "    <tr>\n",
              "      <th>1</th>\n",
              "      <td>Entire home/apt</td>\n",
              "      <td>225</td>\n",
              "    </tr>\n",
              "    <tr>\n",
              "      <th>2</th>\n",
              "      <td>Private room</td>\n",
              "      <td>150</td>\n",
              "    </tr>\n",
              "    <tr>\n",
              "      <th>3</th>\n",
              "      <td>Entire home/apt</td>\n",
              "      <td>89</td>\n",
              "    </tr>\n",
              "    <tr>\n",
              "      <th>4</th>\n",
              "      <td>Entire home/apt</td>\n",
              "      <td>80</td>\n",
              "    </tr>\n",
              "    <tr>\n",
              "      <th>...</th>\n",
              "      <td>...</td>\n",
              "      <td>...</td>\n",
              "    </tr>\n",
              "    <tr>\n",
              "      <th>48889</th>\n",
              "      <td>Private room</td>\n",
              "      <td>65</td>\n",
              "    </tr>\n",
              "    <tr>\n",
              "      <th>48890</th>\n",
              "      <td>Private room</td>\n",
              "      <td>70</td>\n",
              "    </tr>\n",
              "    <tr>\n",
              "      <th>48892</th>\n",
              "      <td>Entire home/apt</td>\n",
              "      <td>115</td>\n",
              "    </tr>\n",
              "    <tr>\n",
              "      <th>48893</th>\n",
              "      <td>Shared room</td>\n",
              "      <td>55</td>\n",
              "    </tr>\n",
              "    <tr>\n",
              "      <th>48894</th>\n",
              "      <td>Private room</td>\n",
              "      <td>90</td>\n",
              "    </tr>\n",
              "  </tbody>\n",
              "</table>\n",
              "<p>43782 rows × 2 columns</p>\n",
              "</div>"
            ],
            "text/plain": [
              "             room_type  price\n",
              "0         Private room    149\n",
              "1      Entire home/apt    225\n",
              "2         Private room    150\n",
              "3      Entire home/apt     89\n",
              "4      Entire home/apt     80\n",
              "...                ...    ...\n",
              "48889     Private room     65\n",
              "48890     Private room     70\n",
              "48892  Entire home/apt    115\n",
              "48893      Shared room     55\n",
              "48894     Private room     90\n",
              "\n",
              "[43782 rows x 2 columns]"
            ]
          },
          "metadata": {
            "tags": []
          },
          "execution_count": 108
        }
      ]
    },
    {
      "cell_type": "code",
      "metadata": {
        "colab": {
          "base_uri": "https://localhost:8080/",
          "height": 282
        },
        "id": "PnQv7GoIrWiU",
        "outputId": "85140922-403b-4c37-ce02-8e0d44ebf6ec"
      },
      "source": [
        "plt.scatter(df['room_type'],df['price'] )"
      ],
      "execution_count": 39,
      "outputs": [
        {
          "output_type": "execute_result",
          "data": {
            "text/plain": [
              "<matplotlib.collections.PathCollection at 0x7f4ca4416490>"
            ]
          },
          "metadata": {
            "tags": []
          },
          "execution_count": 39
        },
        {
          "output_type": "display_data",
          "data": {
            "image/png": "[encoded data removed]",
            "text/plain": [
              "<Figure size 432x288 with 1 Axes>"
            ]
          },
          "metadata": {
            "tags": [],
            "needs_background": "light"
          }
        }
      ]
    },
    {
      "cell_type": "code",
      "metadata": {
        "colab": {
          "base_uri": "https://localhost:8080/",
          "height": 265
        },
        "id": "3rLzNyOXry1l",
        "outputId": "59079063-e541-494e-a895-d65164705302"
      },
      "source": [
        "plt.plot(X_train,model.predict(X_train), color='orange', label='Linear Model')\n",
        "plt.ylabel('price [$]')\n",
        "plt.legend();"
      ],
      "execution_count": 40,
      "outputs": [
        {
          "output_type": "display_data",
          "data": {
            "image/png": "[encoded data removed]",
            "text/plain": [
              "<Figure size 432x288 with 1 Axes>"
            ]
          },
          "metadata": {
            "tags": [],
            "needs_background": "light"
          }
        }
      ]
    },
    {
      "cell_type": "code",
      "metadata": {
        "colab": {
          "base_uri": "https://localhost:8080/"
        },
        "id": "IXqL15SIsJwB",
        "outputId": "5a108887-9992-4d8d-c339-87072edf3205"
      },
      "source": [
        "len(X_train)\n",
        "len(model.predict(X_train))"
      ],
      "execution_count": 41,
      "outputs": [
        {
          "output_type": "execute_result",
          "data": {
            "text/plain": [
              "33248"
            ]
          },
          "metadata": {
            "tags": []
          },
          "execution_count": 41
        }
      ]
    },
    {
      "cell_type": "code",
      "metadata": {
        "colab": {
          "base_uri": "https://localhost:8080/",
          "height": 280
        },
        "id": "zEWCi8QPACoa",
        "outputId": "44d0a952-9a84-420f-da63-66c02ff312f9"
      },
      "source": [
        "#Visualization\n",
        "room_type = ['Entire home/apt', 'Private room', 'Shared room'] \n",
        "plt.scatter(df['room_type'], df['price'])\n",
        "plt.plot(X_train, model.predict(X_train), color='orange', label='Linear Model')\n",
        "plt.xlabel('room_type []')\n",
        "plt.ylabel('price [$]')\n",
        "plt.legend();"
      ],
      "execution_count": 142,
      "outputs": [
        {
          "output_type": "display_data",
          "data": {
            "image/png": "[encoded data removed]",
            "text/plain": [
              "<Figure size 432x288 with 1 Axes>"
            ]
          },
          "metadata": {
            "tags": [],
            "needs_background": "light"
          }
        }
      ]
    },
    {
      "cell_type": "code",
      "metadata": {
        "colab": {
          "base_uri": "https://localhost:8080/"
        },
        "id": "qPvkyJ3jnggr",
        "outputId": "9ab146b4-6ca9-450f-cd95-05831af343e2"
      },
      "source": [
        "df.groupby('room_type')['price'].mean()"
      ],
      "execution_count": 43,
      "outputs": [
        {
          "output_type": "execute_result",
          "data": {
            "text/plain": [
              "room_type\n",
              "Entire home/apt    211.794246\n",
              "Private room        89.780973\n",
              "Shared room         70.127586\n",
              "Name: price, dtype: float64"
            ]
          },
          "metadata": {
            "tags": []
          },
          "execution_count": 43
        }
      ]
    },
    {
      "cell_type": "code",
      "metadata": {
        "id": "6d4wD5ljzc6Q"
      },
      "source": [
        "import pandas as pd\n",
        "import numpy as np\n",
        "from sklearn.preprocessing import OneHotEncoder\n",
        "from sklearn.preprocessing import OrdinalEncoder\n",
        "from sklearn.preprocessing import StandardScaler\n",
        "from sklearn.impute import SimpleImputer\n",
        "#from category_encoders import OrdinalEncoder, OneHotEncoder\n",
        "\n",
        "from sklearn.metrics import accuracy_score, classification_report, roc_auc_score, plot_roc_curve\n",
        "from sklearn.pipeline import make_pipeline\n",
        "import matplotlib.pyplot as plt\n",
        "\n",
        "from sklearn.ensemble import RandomForestClassifier\n",
        "from sklearn.linear_model import LogisticRegression"
      ],
      "execution_count": 110,
      "outputs": []
    },
    {
      "cell_type": "code",
      "metadata": {
        "id": "6oW5kgk_dx5W"
      },
      "source": [
        "#Build the model1\n",
        "#  Instantiate your model (class --> object)\n",
        "model = LinearRegression()\n",
        "\n",
        "# Fit your TRAINING data to the model\n",
        "model.fit(X_train, y_train);"
      ],
      "execution_count": 143,
      "outputs": []
    },
    {
      "cell_type": "code",
      "metadata": {
        "id": "lc1URfzey5vE"
      },
      "source": [
        "# build a logistic regression model 2 not included exerimented\n",
        "\n",
        "oe = OrdinalEncoder()\n",
        "X_train_T = oe.fit_transform(X_train)\n",
        "X_test_T = oe.fit_transform(X_test)\n",
        "\n",
        "model_lr = make_pipeline(OrdinalEncoder(),\n",
        "                         SimpleImputer(),\n",
        "                         StandardScaler(),\n",
        "                         LogisticRegression(random_state=42))\n",
        "\n",
        "#model_lr.fit(X_train_T, y_train)"
      ],
      "execution_count": 144,
      "outputs": []
    },
    {
      "cell_type": "code",
      "metadata": {
        "colab": {
          "base_uri": "https://localhost:8080/"
        },
        "id": "FrEAHBajmW9l",
        "outputId": "624e58a3-0689-416f-e4fe-b8257848c69c"
      },
      "source": [
        "#Model 2: GradientBoostingModel\n",
        "from sklearn.ensemble import GradientBoostingRegressor\n",
        "oe = OrdinalEncoder()\n",
        "X_train_T = oe.fit_transform(X_train)\n",
        "X_test_T = oe.fit_transform(X_test)\n",
        "\n",
        "#X_val_T = oe.transform(X_val)\n",
        "model_gb = make_pipeline(OrdinalEncoder(),\n",
        "SimpleImputer(),\n",
        "GradientBoostingRegressor(random_state=42))\n",
        "model_gb.fit(X_train_T, y_train)"
      ],
      "execution_count": 114,
      "outputs": [
        {
          "output_type": "execute_result",
          "data": {
            "text/plain": [
              "Pipeline(memory=None,\n",
              "         steps=[('ordinalencoder',\n",
              "                 OrdinalEncoder(categories='auto',\n",
              "                                dtype=<class 'numpy.float64'>)),\n",
              "                ('simpleimputer',\n",
              "                 SimpleImputer(add_indicator=False, copy=True, fill_value=None,\n",
              "                               missing_values=nan, strategy='mean',\n",
              "                               verbose=0)),\n",
              "                ('gradientboostingregressor',\n",
              "                 GradientBoostingRegressor(alpha=0.9, ccp_alpha=0.0,\n",
              "                                           criterion='friedman_mse', init=None,\n",
              "                                           le....1, loss='ls',\n",
              "                                           max_depth=3, max_features=None,\n",
              "                                           max_leaf_nodes=None,\n",
              "                                           min_impurity_decrease=0.0,\n",
              "                                           min_impurity_split=None,\n",
              "                                           min_samples_leaf=1,\n",
              "                                           min_samples_split=2,\n",
              "                                           min_weight_fraction_leaf=0.0,\n",
              "                                           n_estimators=100,\n",
              "                                           n_iter_no_change=None,\n",
              "                                           presort='deprecated',\n",
              "                                           random_state=42, subsample=1.0,\n",
              "                                           tol=0.0001, validation_fraction=0.1,\n",
              "                                           verbose=0, warm_start=False))],\n",
              "         verbose=False)"
            ]
          },
          "metadata": {
            "tags": []
          },
          "execution_count": 114
        }
      ]
    },
    {
      "cell_type": "code",
      "metadata": {
        "id": "5SkJ77rlw2oo"
      },
      "source": [
        "model_gb.predict(X_test_T)"
      ],
      "execution_count": null,
      "outputs": []
    },
    {
      "cell_type": "code",
      "metadata": {
        "colab": {
          "base_uri": "https://localhost:8080/"
        },
        "id": "GESRDh0As9Sk",
        "outputId": "4840d01b-6b20-468c-eeac-0918af9a01e4"
      },
      "source": [
        "#model 3\n",
        "#FIT XGRADIENT BOOSTING MODEL\n",
        "from xgboost import XGBRegressor\n",
        "oe = OrdinalEncoder()\n",
        "X_train_T = oe.fit_transform(X_train)\n",
        "X_test_T = oe.fit_transform(X_test)\n",
        "\n",
        "\n",
        "#X_test_T = oe.transform(X_test)\n",
        "model_xg =  make_pipeline(OrdinalEncoder(),\n",
        "                         SimpleImputer(strategy='median'),\n",
        "                         XGBRegressor(random_state=42, n_jobs=10))\n",
        "model_xg.fit(X_train_T, y_train)"
      ],
      "execution_count": 115,
      "outputs": [
        {
          "output_type": "stream",
          "text": [
            "[00:58:51] WARNING: /workspace/src/objective/regression_obj.cu:152: reg:linear is now deprecated in favor of reg:squarederror.\n"
          ],
          "name": "stdout"
        },
        {
          "output_type": "execute_result",
          "data": {
            "text/plain": [
              "Pipeline(memory=None,\n",
              "         steps=[('ordinalencoder',\n",
              "                 OrdinalEncoder(categories='auto',\n",
              "                                dtype=<class 'numpy.float64'>)),\n",
              "                ('simpleimputer',\n",
              "                 SimpleImputer(add_indicator=False, copy=True, fill_value=None,\n",
              "                               missing_values=nan, strategy='median',\n",
              "                               verbose=0)),\n",
              "                ('xgbregressor',\n",
              "                 XGBRegressor(base_score=0.5, booster='gbtree',\n",
              "                              colsample_bylevel=1, colsample_bynode=1,\n",
              "                              colsample_bytree=1, gamma=0,\n",
              "                              importance_type='gain', learning_rate=0.1,\n",
              "                              max_delta_step=0, max_depth=3, min_child_weight=1,\n",
              "                              missing=None, n_estimators=100, n_jobs=10,\n",
              "                              nthread=None, objective='reg:linear',\n",
              "                              random_state=42, reg_alpha=0, reg_lambda=1,\n",
              "                              scale_pos_weight=1, seed=None, silent=None,\n",
              "                              subsample=1, verbosity=1))],\n",
              "         verbose=False)"
            ]
          },
          "metadata": {
            "tags": []
          },
          "execution_count": 115
        }
      ]
    },
    {
      "cell_type": "code",
      "metadata": {
        "colab": {
          "base_uri": "https://localhost:8080/"
        },
        "id": "b5r-AtgbY6xc",
        "outputId": "c11e7764-0c7f-4abd-c2db-4acc3ce7b305"
      },
      "source": [
        "model_xg.predict(X_test_T)"
      ],
      "execution_count": 116,
      "outputs": [
        {
          "output_type": "execute_result",
          "data": {
            "text/plain": [
              "array([117.5875 , 132.24712, 151.95183, ..., 172.70312, 186.76712,\n",
              "       193.2972 ], dtype=float32)"
            ]
          },
          "metadata": {
            "tags": []
          },
          "execution_count": 116
        }
      ]
    },
    {
      "cell_type": "code",
      "metadata": {
        "colab": {
          "base_uri": "https://localhost:8080/"
        },
        "id": "i8y7BAod8OyE",
        "outputId": "ffdf6b8e-3798-4327-f851-2ac07ee6aa78"
      },
      "source": [
        "#Model 4: RandomForest\n",
        "from sklearn.ensemble import RandomForestRegressor\n",
        "\n",
        "X_train_T = oe.fit_transform(X_train)\n",
        "X_test_T = oe.fit_transform(X_test)\n",
        "\n",
        "model_rf = make_pipeline(OrdinalEncoder(),\n",
        "SimpleImputer(),\n",
        "RandomForestRegressor(random_state=42))\n",
        "model_rf.fit(X_train_T, y_train)"
      ],
      "execution_count": 117,
      "outputs": [
        {
          "output_type": "execute_result",
          "data": {
            "text/plain": [
              "Pipeline(memory=None,\n",
              "         steps=[('ordinalencoder',\n",
              "                 OrdinalEncoder(categories='auto',\n",
              "                                dtype=<class 'numpy.float64'>)),\n",
              "                ('simpleimputer',\n",
              "                 SimpleImputer(add_indicator=False, copy=True, fill_value=None,\n",
              "                               missing_values=nan, strategy='mean',\n",
              "                               verbose=0)),\n",
              "                ('randomforestregressor',\n",
              "                 RandomForestRegressor(bootstrap=True, ccp_alpha=0.0,\n",
              "                                       criterion='mse', max_depth=None,\n",
              "                                       max_features='auto', max_leaf_nodes=None,\n",
              "                                       max_samples=None,\n",
              "                                       min_impurity_decrease=0.0,\n",
              "                                       min_impurity_split=None,\n",
              "                                       min_samples_leaf=1, min_samples_split=2,\n",
              "                                       min_weight_fraction_leaf=0.0,\n",
              "                                       n_estimators=100, n_jobs=None,\n",
              "                                       oob_score=False, random_state=42,\n",
              "                                       verbose=0, warm_start=False))],\n",
              "         verbose=False)"
            ]
          },
          "metadata": {
            "tags": []
          },
          "execution_count": 117
        }
      ]
    },
    {
      "cell_type": "code",
      "metadata": {
        "colab": {
          "base_uri": "https://localhost:8080/"
        },
        "id": "qL-_zcZqZCzz",
        "outputId": "a3be27c9-ea81-4b06-e9f7-d30d89c5dd74"
      },
      "source": [
        "#model 5:DecisionTree\n",
        "from sklearn.tree import DecisionTreeRegressor\n",
        "X_train_T = oe.fit_transform(X_train)\n",
        "X_test_T = oe.fit_transform(X_test)\n",
        "\n",
        "model_dt = make_pipeline(OrdinalEncoder(),\n",
        "SimpleImputer(),\n",
        "DecisionTreeRegressor(random_state=42))\n",
        "model_dt.fit(X_train_T, y_train)"
      ],
      "execution_count": 118,
      "outputs": [
        {
          "output_type": "execute_result",
          "data": {
            "text/plain": [
              "Pipeline(memory=None,\n",
              "         steps=[('ordinalencoder',\n",
              "                 OrdinalEncoder(categories='auto',\n",
              "                                dtype=<class 'numpy.float64'>)),\n",
              "                ('simpleimputer',\n",
              "                 SimpleImputer(add_indicator=False, copy=True, fill_value=None,\n",
              "                               missing_values=nan, strategy='mean',\n",
              "                               verbose=0)),\n",
              "                ('decisiontreeregressor',\n",
              "                 DecisionTreeRegressor(ccp_alpha=0.0, criterion='mse',\n",
              "                                       max_depth=None, max_features=None,\n",
              "                                       max_leaf_nodes=None,\n",
              "                                       min_impurity_decrease=0.0,\n",
              "                                       min_impurity_split=None,\n",
              "                                       min_samples_leaf=1, min_samples_split=2,\n",
              "                                       min_weight_fraction_leaf=0.0,\n",
              "                                       presort='deprecated', random_state=42,\n",
              "                                       splitter='best'))],\n",
              "         verbose=False)"
            ]
          },
          "metadata": {
            "tags": []
          },
          "execution_count": 118
        }
      ]
    },
    {
      "cell_type": "code",
      "metadata": {
        "colab": {
          "base_uri": "https://localhost:8080/"
        },
        "id": "R1DWNc6nZIl8",
        "outputId": "fd086495-c26b-4c37-8289-69d77b30675c"
      },
      "source": [
        "#Model 6\n",
        "from sklearn.linear_model import Ridge\n",
        "X_train_T = oe.fit_transform(X_train)\n",
        "X_test_T = oe.fit_transform(X_test)\n",
        "\n",
        "model_r =make_pipeline(\n",
        "OrdinalEncoder(),\n",
        "SimpleImputer(),\n",
        "Ridge()\n",
        ")\n",
        "model_r.fit(X_train_T, y_train)"
      ],
      "execution_count": 119,
      "outputs": [
        {
          "output_type": "execute_result",
          "data": {
            "text/plain": [
              "Pipeline(memory=None,\n",
              "         steps=[('ordinalencoder',\n",
              "                 OrdinalEncoder(categories='auto',\n",
              "                                dtype=<class 'numpy.float64'>)),\n",
              "                ('simpleimputer',\n",
              "                 SimpleImputer(add_indicator=False, copy=True, fill_value=None,\n",
              "                               missing_values=nan, strategy='mean',\n",
              "                               verbose=0)),\n",
              "                ('ridge',\n",
              "                 Ridge(alpha=1.0, copy_X=True, fit_intercept=True,\n",
              "                       max_iter=None, normalize=False, random_state=None,\n",
              "                       solver='auto', tol=0.001))],\n",
              "         verbose=False)"
            ]
          },
          "metadata": {
            "tags": []
          },
          "execution_count": 119
        }
      ]
    },
    {
      "cell_type": "code",
      "metadata": {
        "colab": {
          "base_uri": "https://localhost:8080/"
        },
        "id": "_oH0L9C1XY4N",
        "outputId": "b16a2b78-4ce1-4328-85de-dd653e0e24f7"
      },
      "source": [
        "print('XGradient Boost Validity MAE:',  mean_absolute_error(y_train, model_xg.predict(X_train_T)))"
      ],
      "execution_count": 120,
      "outputs": [
        {
          "output_type": "stream",
          "text": [
            "XGradient Boost Validity MAE: 72.84016203091367\n"
          ],
          "name": "stdout"
        }
      ]
    },
    {
      "cell_type": "code",
      "metadata": {
        "id": "Nh-2-UITyIww"
      },
      "source": [
        ""
      ],
      "execution_count": 120,
      "outputs": []
    },
    {
      "cell_type": "code",
      "metadata": {
        "colab": {
          "base_uri": "https://localhost:8080/"
        },
        "id": "UuRlI-4O900V",
        "outputId": "7f83f76a-9f24-4505-a117-c6f210bc91d7"
      },
      "source": [
        "#Mean_Absolute_Error\n",
        "from sklearn.metrics import mean_absolute_error\n",
        "print('Linear Regression Test MAE:', mean_absolute_error(y_test, model.predict(X_test)))\n",
        "#print('Logistic Regression Test MAE:', mean_absolute_error(y_test,model_lr.predict(X_test_T)))\n",
        "print('DecisionTree Test MAE:', mean_absolute_error(y_test, model_dt.predict(X_test_T)))\n",
        "print('Random Forest Test MAE:', mean_absolute_error(y_test, model_rf.predict(X_test_T)))\n",
        "print('Gradient Boost Test MAE:', mean_absolute_error(y_test, model_gb.predict(X_test_T)))\n",
        "print('Ridge Regression Test MAE:', mean_absolute_error(y_test, model_r.predict(X_test_T)))\n",
        "print('XGradient Boost Test MAE:',  mean_absolute_error(y_test, model_xg.predict(X_test_T)))\n",
        "\n"
      ],
      "execution_count": 121,
      "outputs": [
        {
          "output_type": "stream",
          "text": [
            "Linear Regression Test MAE: 80.16146217444623\n",
            "DecisionTree Test MAE: 108.97533401849948\n",
            "Random Forest Test MAE: 92.80213724258688\n",
            "Gradient Boost Test MAE: 79.93154340239916\n",
            "Ridge Regression Test MAE: 87.77728290299139\n",
            "XGradient Boost Test MAE: 79.79476186942466\n"
          ],
          "name": "stdout"
        }
      ]
    },
    {
      "cell_type": "code",
      "metadata": {
        "colab": {
          "base_uri": "https://localhost:8080/"
        },
        "id": "mWZw1TIeXEmx",
        "outputId": "045b73f1-9949-442e-816d-70a653ffe846"
      },
      "source": [
        "from sklearn.metrics import r2_score\n",
        "print('Linear Regression R2 score:',r2_score(y_test,model.predict(X_test_T)) )\n",
        "#print('Logistic Regression R2 score:',r2_score(y_test,model_lr.predict(X_test_T)) )\n",
        "print('Decision Tree R2 score:',r2_score(y_test,model_dt.predict(X_test_T)) )\n",
        "print('Random Forest R2 score:',r2_score(y_test,model_rf.predict(X_test_T)) )\n",
        "print('Gradient Boost R2 score:',r2_score(y_test,model_gb.predict(X_test_T)) )\n",
        "print('Ridge Regression R2 score:',r2_score(y_test,model_r.predict(X_test_T)))\n",
        "print('XGradient Boost R2 score:',r2_score(y_test,model_xg.predict(X_test_T)) )"
      ],
      "execution_count": 123,
      "outputs": [
        {
          "output_type": "stream",
          "text": [
            "Linear Regression R2 score: -185369121.02192992\n",
            "Decision Tree R2 score: -0.845322105100546\n",
            "Random Forest R2 score: -0.1691529912541847\n",
            "Gradient Boost R2 score: 0.03959383677574413\n",
            "Ridge Regression R2 score: 0.03495013209999276\n",
            "XGradient Boost R2 score: 0.03897511117490271\n"
          ],
          "name": "stdout"
        }
      ]
    },
    {
      "cell_type": "code",
      "metadata": {
        "id": "2G6Y2Ij8fkAh"
      },
      "source": [
        "from sklearn.metrics import mean_squared_error\n",
        "\n"
      ],
      "execution_count": 124,
      "outputs": []
    },
    {
      "cell_type": "code",
      "metadata": {
        "colab": {
          "base_uri": "https://localhost:8080/",
          "height": 295
        },
        "id": "PMi0NNigfkEF",
        "outputId": "52295056-30ca-4ae8-cfe4-f82f61660527"
      },
      "source": [
        "importances = model_xg.named_steps['xgbregressor'].feature_importances_\n",
        "features = X_train.columns\n",
        "feat_imp = pd.Series(importances, index=features).sort_values()\n",
        "feat_imp.tail(10).plot(kind='barh')\n",
        "plt.xlabel('Gini Importance')\n",
        "plt.ylabel('Feature')\n",
        "plt.title('Feature Importances for model_xg');"
      ],
      "execution_count": 79,
      "outputs": [
        {
          "output_type": "display_data",
          "data": {
            "image/png": "[encoded data removed]",
            "text/plain": [
              "<Figure size 432x288 with 1 Axes>"
            ]
          },
          "metadata": {
            "tags": [],
            "needs_background": "light"
          }
        }
      ]
    },
    {
      "cell_type": "code",
      "metadata": {
        "id": "jNwZao2JfkHf"
      },
      "source": [
        ""
      ],
      "execution_count": null,
      "outputs": []
    }
  ]
}